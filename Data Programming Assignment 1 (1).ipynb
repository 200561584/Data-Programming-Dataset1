{
 "cells": [
  {
   "cell_type": "markdown",
   "id": "9d70761d",
   "metadata": {},
   "source": [
    "# Problem Set 1\n",
    "\n",
    "This problem set is based on lectures 1,2 and 3. For a complete list of topics please \n",
    "consult page 2 of the course syllabus. Please consult the “Instructions for Problem \n",
    "Set Submissions” document under course information before submitting your \n",
    "assignment.\n",
    "\n"
   ]
  },
  {
   "cell_type": "markdown",
   "id": "fd5268b6",
   "metadata": {},
   "source": [
    "# Question 1:\n",
    "What data type is each of the following (evaluate where necessary)?\n",
    "5 \n",
    "\n",
    "5.0\n",
    "\n",
    "5 > 1\n",
    "\n",
    "'5'\n",
    "\n",
    "5 * 2\n",
    "\n",
    "'5' * 2\n",
    "\n",
    "'5' + '2'\n",
    "\n",
    "5 / 2\n",
    "\n",
    "5 % 2\n",
    "\n",
    "{5, 2, 1}\n",
    "\n",
    "5 == 3\n",
    "\n",
    "Pi (the number)"
   ]
  },
  {
   "cell_type": "markdown",
   "id": "2d514f5f",
   "metadata": {},
   "source": [
    "\n",
    "\n"
   ]
  },
  {
   "cell_type": "code",
   "execution_count": 7,
   "id": "c62ca07f",
   "metadata": {},
   "outputs": [
    {
     "data": {
      "text/plain": [
       "float"
      ]
     },
     "execution_count": 7,
     "metadata": {},
     "output_type": "execute_result"
    }
   ],
   "source": [
    "5.0\n",
    "type (5.0)"
   ]
  },
  {
   "cell_type": "code",
   "execution_count": 8,
   "id": "66888b7b",
   "metadata": {},
   "outputs": [
    {
     "data": {
      "text/plain": [
       "bool"
      ]
     },
     "execution_count": 8,
     "metadata": {},
     "output_type": "execute_result"
    }
   ],
   "source": [
    "5 > 1\n",
    "type (5 > 1)"
   ]
  },
  {
   "cell_type": "code",
   "execution_count": 9,
   "id": "08870966",
   "metadata": {},
   "outputs": [
    {
     "data": {
      "text/plain": [
       "str"
      ]
     },
     "execution_count": 9,
     "metadata": {},
     "output_type": "execute_result"
    }
   ],
   "source": [
    "'5'\n",
    "type ('5')"
   ]
  },
  {
   "cell_type": "code",
   "execution_count": 10,
   "id": "41a14694",
   "metadata": {},
   "outputs": [
    {
     "data": {
      "text/plain": [
       "int"
      ]
     },
     "execution_count": 10,
     "metadata": {},
     "output_type": "execute_result"
    }
   ],
   "source": [
    "5 * 2\n",
    "type (5 * 2)"
   ]
  },
  {
   "cell_type": "code",
   "execution_count": 11,
   "id": "dc7e0221",
   "metadata": {},
   "outputs": [
    {
     "data": {
      "text/plain": [
       "str"
      ]
     },
     "execution_count": 11,
     "metadata": {},
     "output_type": "execute_result"
    }
   ],
   "source": [
    "'5' + '2'\n",
    "type ('5' + '2')"
   ]
  },
  {
   "cell_type": "code",
   "execution_count": 12,
   "id": "cf070166",
   "metadata": {},
   "outputs": [
    {
     "data": {
      "text/plain": [
       "float"
      ]
     },
     "execution_count": 12,
     "metadata": {},
     "output_type": "execute_result"
    }
   ],
   "source": [
    "5/2\n",
    "type (5/2)"
   ]
  },
  {
   "cell_type": "code",
   "execution_count": 13,
   "id": "8656ab18",
   "metadata": {},
   "outputs": [
    {
     "data": {
      "text/plain": [
       "int"
      ]
     },
     "execution_count": 13,
     "metadata": {},
     "output_type": "execute_result"
    }
   ],
   "source": [
    "5%2\n",
    "type (5%2)\n"
   ]
  },
  {
   "cell_type": "code",
   "execution_count": 14,
   "id": "592952e4",
   "metadata": {},
   "outputs": [
    {
     "data": {
      "text/plain": [
       "set"
      ]
     },
     "execution_count": 14,
     "metadata": {},
     "output_type": "execute_result"
    }
   ],
   "source": [
    "{5,2,1}\n",
    "type ({5,2,1})"
   ]
  },
  {
   "cell_type": "code",
   "execution_count": 15,
   "id": "3ee96b87",
   "metadata": {},
   "outputs": [
    {
     "data": {
      "text/plain": [
       "bool"
      ]
     },
     "execution_count": 15,
     "metadata": {},
     "output_type": "execute_result"
    }
   ],
   "source": [
    "5 == 3\n",
    "type (5 == 3)"
   ]
  },
  {
   "cell_type": "code",
   "execution_count": 16,
   "id": "b1153628",
   "metadata": {},
   "outputs": [
    {
     "data": {
      "text/plain": [
       "float"
      ]
     },
     "execution_count": 16,
     "metadata": {},
     "output_type": "execute_result"
    }
   ],
   "source": [
    "3.14\n",
    "type (3.14)"
   ]
  },
  {
   "cell_type": "markdown",
   "id": "b7ec1ebe",
   "metadata": {},
   "source": [
    "# Question 2\n",
    "\n",
    "Write (and evaluate) python expressions that answer these questions:\n",
    "\n",
    "a. How many letters are there in 'Supercalifragilisticexpialidocious'?\n",
    "\n",
    "b. Does 'Supercalifragilisticexpialidocious' contain 'ice' as a substring? \n"
   ]
  },
  {
   "cell_type": "code",
   "execution_count": 17,
   "id": "83af8fbb",
   "metadata": {},
   "outputs": [
    {
     "data": {
      "text/plain": [
       "34"
      ]
     },
     "execution_count": 17,
     "metadata": {},
     "output_type": "execute_result"
    }
   ],
   "source": [
    "str1 = 'Supercalifragilisticexpialidocious'\n",
    "len(str1)"
   ]
  },
  {
   "cell_type": "code",
   "execution_count": 20,
   "id": "34d2b1a1",
   "metadata": {},
   "outputs": [
    {
     "name": "stdout",
     "output_type": "stream",
     "text": [
      "The substring 'ice' is present in the word.\n"
     ]
    }
   ],
   "source": [
    "str1 = 'Supercalifragilisticexpialidocious'\n",
    "substring = 'ice'\n",
    "\n",
    "if substring in str1:\n",
    "    print(\"The substring 'ice' is present in the word.\")\n",
    "else:\n",
    "    print(\"The substring 'ice' is not present in the word.\")\n"
   ]
  },
  {
   "cell_type": "markdown",
   "id": "7b7f0bfd",
   "metadata": {},
   "source": [
    "# Question 3\n",
    "\n",
    "Implement function triangleArea(a,b,c) that takes as input the lengths of the 3\n",
    "sides of a triangle and returns the area of the triangle. By Heron's formula, the area \n",
    "of a triangle with side lengths a, b, and c is\n",
    "s(s - a)(s -b)(s -c)\n",
    ", where \n",
    "s = (a+b+c)/2. \n",
    ">>> triangleArea(2,2,2)\n",
    "1.7320508075688772"
   ]
  },
  {
   "cell_type": "code",
   "execution_count": 3,
   "id": "76ef0b97",
   "metadata": {},
   "outputs": [],
   "source": [
    "import math\n",
    "def TriangleArea(a,b,c):\n",
    "    s = (a + b + c) / 2\n",
    "    area = math.sqrt (s*(s-a)*(s-b)*(s-c))\n",
    "    return area"
   ]
  },
  {
   "cell_type": "code",
   "execution_count": 4,
   "id": "f0718596",
   "metadata": {},
   "outputs": [
    {
     "data": {
      "text/plain": [
       "1.7320508075688772"
      ]
     },
     "execution_count": 4,
     "metadata": {},
     "output_type": "execute_result"
    }
   ],
   "source": [
    "TriangleArea(2,2,2)"
   ]
  },
  {
   "cell_type": "markdown",
   "id": "a3a9cc55",
   "metadata": {},
   "source": [
    "# Question 4\n",
    "\n",
    "Write a program in python to separate odd and even integers in separate arrays. Go \n",
    "to the editor\n",
    "\n",
    "Test Data :\n",
    "\n",
    "Input the number of elements to be stored in the array :5\n",
    "\n",
    "Input 5 elements in the array :\n",
    "\n",
    "element - 0 : 25\n",
    "\n",
    "element - 1 : 47\n",
    "\n",
    "element - 2 : 42\n",
    "\n",
    "element - 3 : 56\n",
    "\n",
    "\n",
    "element - 4 : 32\n",
    "\n",
    "Expected Output:\n",
    "\n",
    "The Even elements are:\n",
    "42 56 32\n",
    "\n",
    "The Odd elements are :\n",
    "25 47"
   ]
  },
  {
   "cell_type": "markdown",
   "id": "1414ac95",
   "metadata": {},
   "source": []
  },
  {
   "cell_type": "code",
   "execution_count": 9,
   "id": "d0d4ec9e",
   "metadata": {},
   "outputs": [],
   "source": [
    "# separate odd Numbers from even Numbers\n",
    "def separate_odd_even(numbers):\n",
    "    oddnumbers = []\n",
    "    evennumbers = []\n",
    "    for num in numbers:\n",
    "        if num  %2 == 0:\n",
    "            evennumbers.append(num)\n",
    "        else:\n",
    "            oddnumbers.append(num) \n",
    "    return oddnumbers, evennumbers\n"
   ]
  },
  {
   "cell_type": "code",
   "execution_count": 11,
   "id": "03ab9c8c",
   "metadata": {},
   "outputs": [
    {
     "name": "stdout",
     "output_type": "stream",
     "text": [
      "([25, 47], [42, 56, 32])\n"
     ]
    }
   ],
   "source": [
    "numbers = [25, 47, 42, 56, 32]\n",
    "print(separate_odd_even(numbers))\n"
   ]
  },
  {
   "cell_type": "markdown",
   "id": "0e897a84",
   "metadata": {},
   "source": [
    "# Question 5 \n",
    "\n",
    "a. Write a function inside(x,y,x1,y1,x2,y2) that returns True or False depending on whether the point (x,y) lies in the rectangle with lower left corner (x1,y1) and upper right corner (x2,y2).\n",
    ">>> inside(1,1,0,0,2,3)\n",
    "True\n",
    ">>> inside(-1,-1,0,0,2,3)\n",
    "False\n",
    "b. Use function inside() from part a. to write an expression that tests whether \n",
    "the point (1,1) lies in both of the following rectangles: one with lower left \n",
    "corner (0.3, 0.5) and upper right corner (1.1, 0.7) and the other with lower \n",
    "left corner (0.5, 0.2) and upper right corner (1.1, 2)."
   ]
  },
  {
   "cell_type": "code",
   "execution_count": 27,
   "id": "b98cd3d0",
   "metadata": {},
   "outputs": [],
   "source": [
    "def  inside(x,y,x1,y1,x2,y2):\n",
    "    if (x > x1 and x < x2 and y > y1 and y < y2):\n",
    "        return True\n",
    "    else:\n",
    "        return False"
   ]
  },
  {
   "cell_type": "code",
   "execution_count": 28,
   "id": "3a57fd57",
   "metadata": {},
   "outputs": [
    {
     "name": "stdout",
     "output_type": "stream",
     "text": [
      "The point (1,1) does not lie in both rectangle.\n"
     ]
    }
   ],
   "source": [
    "if inside(1,1,0.3,0.5,1.1,0.7) and inside(-1,-1,0.5,0.2,1.1,2):\n",
    "    print (\"The point (1,1) lies in both rectangle.\")\n",
    "else:\n",
    "    print (\"The point (1,1) does not lie in both rectangle.\") \n",
    "        "
   ]
  },
  {
   "cell_type": "markdown",
   "id": "de8f3259",
   "metadata": {},
   "source": [
    "# Question 6\n",
    "16. You can turn a word into pig-Latin using the following two rules (simplified):\n",
    "\n",
    "• If the word starts with a consonant, move that letter to the end and append \n",
    "'ay'. For example, 'happy' becomes 'appyhay' and 'pencil' becomes 'encilpay'.\n",
    "\n",
    "• If the word starts with a vowel, simply append 'way' to the end of the word. \n",
    "For example, 'enter' becomes 'enterway' and 'other' becomes 'otherway' . \n",
    "\n",
    "For our purposes, there are 5 vowels: a, e, i, o, u (so we count y as a consonant).\n",
    "Write a function pig() that takes a word (i.e., a string) as input and returns its pig\u0002Latin form. Your function should still work if the input word contains upper case \n",
    "characters. Your output should always be lower case however. \n",
    ">>> pig('happy')\n",
    "'appyhay'\n",
    ">>> pig('Enter')\n",
    "'enterway' \n"
   ]
  },
  {
   "cell_type": "code",
   "execution_count": 34,
   "id": "42f9261c",
   "metadata": {},
   "outputs": [
    {
     "name": "stdout",
     "output_type": "stream",
     "text": [
      "appyhay\n",
      "encilpay\n",
      "enterway\n",
      "theroay\n"
     ]
    }
   ],
   "source": [
    "def pig(word):\n",
    "    vowels =['a', 'e', 'i', '0', 'u']\n",
    "    \n",
    "    if word[0] in vowels:\n",
    "        return word + 'way'\n",
    "    else:\n",
    "        return word [1:] + word [0] + 'ay'\n",
    "    \n",
    "print(pig('happy'))\n",
    "print(pig('pencil'))\n",
    "print(pig('enter'))\n",
    "print(pig('other'))\n",
    "    \n",
    "    "
   ]
  },
  {
   "cell_type": "markdown",
   "id": "ad5f43fa",
   "metadata": {},
   "source": [
    " # Question 7\n",
    "File bloodtype1.txt records blood-types of patients (A, B, AB, O or OO) at a clinic. \n",
    "\n",
    "Write a function bldcount() that reads the file with name name and reports (i.e.,prints) how many patients there are in each bloodtype.\n",
    ">>> bldcount('bloodtype.txt')\n",
    "There are 10 patients of blood type A.\n",
    "There is one patient of blood type B.\n",
    "There are 10 patients of blood type AB.\n",
    "There are 12 patients of blood type O.\n",
    "There are no patients of blood type OO.\n"
   ]
  },
  {
   "cell_type": "code",
   "execution_count": 16,
   "id": "de0a5cbb",
   "metadata": {},
   "outputs": [],
   "source": [
    "with open('BloodGroup.txt', 'r') as f:\n",
    "    contents = f.read()\n"
   ]
  },
  {
   "cell_type": "code",
   "execution_count": 18,
   "id": "1c5a3823",
   "metadata": {},
   "outputs": [
    {
     "name": "stdout",
     "output_type": "stream",
     "text": [
      "Number of patients with blood type A: 15\n",
      "Number of patients with blood type B: 1\n",
      "Number of patients with blood type AB: 13\n",
      "Number of patients with blood type O: 15\n",
      "Number of patients with blood type OO: 0\n"
     ]
    }
   ],
   "source": [
    "def bldcount(name):\n",
    "    blood_groups = ['A', 'B', 'AB', 'O', 'OO']\n",
    "    with open(name) as f:\n",
    "        blood_data = f.read().split()\n",
    "        for blood_group in blood_groups:\n",
    "            count = blood_data.count(blood_group)\n",
    "            print(f'Number of patients with blood type {blood_group}: {count}')\n",
    "\n",
    "bldcount('BloodGroup.txt')\n",
    "\n",
    "     "
   ]
  },
  {
   "cell_type": "markdown",
   "id": "003fc5b7",
   "metadata": {},
   "source": [
    " # Question 8\n",
    "Write a function curconv() that takes as input:\n",
    "1. a currency represented using a string (e.g., 'JPY' for the Japanese Yen or \n",
    "'EUR' for the Euro)\n",
    "2. an amount\n",
    "and then converts and returns the amount in US dollars.\n",
    ">>> curconv('EUR', 100)\n",
    "122.96544\n",
    ">>> curconv('JPY', 100)\n",
    "1.24140"
   ]
  },
  {
   "cell_type": "markdown",
   "id": "305dfc0f",
   "metadata": {},
   "source": [
    "# Question 9\n",
    "\n",
    "Each of the following will cause an exception (an error). Identify what type of exception each will cause.\n",
    "\n",
    "Trying to add incompatible variables, as in \n",
    "adding 6 + ‘a’\n",
    "Referring to the 12th item of a list that has only 10 \n",
    "items\n",
    "Using a value that is out of range for a function’s \n",
    "input, such as calling math.sqrt(-1.0)\n",
    "Using an undeclared variable, such as print(x)\n",
    "when x has not been defined \n",
    "Trying to open a file that does not exist, such as \n",
    "mistyping the file name or looking in the wrong \n",
    "directory. \n"
   ]
  },
  {
   "cell_type": "markdown",
   "id": "c92705c0",
   "metadata": {},
   "source": [
    "1) it gives an output of error because the variable is not declared \n",
    "2) it also give file error because the output does not exist \n",
    "3) list index is out of range because there are only 10 indexes "
   ]
  },
  {
   "cell_type": "code",
   "execution_count": null,
   "id": "fba42e4f",
   "metadata": {},
   "outputs": [],
   "source": []
  }
 ],
 "metadata": {
  "kernelspec": {
   "display_name": "Python 3 (ipykernel)",
   "language": "python",
   "name": "python3"
  },
  "language_info": {
   "codemirror_mode": {
    "name": "ipython",
    "version": 3
   },
   "file_extension": ".py",
   "mimetype": "text/x-python",
   "name": "python",
   "nbconvert_exporter": "python",
   "pygments_lexer": "ipython3",
   "version": "3.10.9"
  }
 },
 "nbformat": 4,
 "nbformat_minor": 5
}
